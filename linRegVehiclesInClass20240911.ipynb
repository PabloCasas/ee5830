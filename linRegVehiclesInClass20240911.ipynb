{
 "cells": [
  {
   "cell_type": "markdown",
   "id": "7d8295fd",
   "metadata": {},
   "source": [
    "# Linear Regression "
   ]
  },
  {
   "cell_type": "markdown",
   "id": "2e6f04d1",
   "metadata": {},
   "source": [
    "Written by Deborah Won for EE 5830\n",
    "California State University, Los Angeles"
   ]
  },
  {
   "cell_type": "markdown",
   "id": "dfa94e9b",
   "metadata": {},
   "source": [
    "First, we will be getting the data into a Pandas dataframe. "
   ]
  },
  {
   "cell_type": "code",
   "execution_count": 1,
   "id": "9f5a68fb",
   "metadata": {
    "scrolled": true
   },
   "outputs": [
    {
     "name": "stdout",
     "output_type": "stream",
     "text": [
      "<class 'pandas.core.frame.DataFrame'>\n"
     ]
    }
   ],
   "source": [
    "import pandas as pd\n",
    "\n",
    "# load pre-processed data with observed values\n",
    "data_source = \"vehicles.csv\" \n",
    "\n",
    "# Format data into a Pandas dataframe\n",
    "fuel_economy = pd.read_csv(data_source, low_memory=False)\n",
    "print(type(fuel_economy))\n"
   ]
  },
  {
   "cell_type": "code",
   "execution_count": 2,
   "id": "43c4ee1d",
   "metadata": {},
   "outputs": [
    {
     "data": {
      "text/plain": [
       "Index(['barrels08', 'barrelsA08', 'charge120', 'charge240', 'city08',\n",
       "       'city08U', 'cityA08', 'cityA08U', 'cityCD', 'cityE', 'cityUF', 'co2',\n",
       "       'co2A', 'co2TailpipeAGpm', 'co2TailpipeGpm', 'comb08', 'comb08U',\n",
       "       'combA08', 'combA08U', 'combE', 'combinedCD', 'combinedUF', 'cylinders',\n",
       "       'displ', 'drive', 'engId', 'eng_dscr', 'feScore', 'fuelCost08',\n",
       "       'fuelCostA08', 'fuelType', 'fuelType1', 'ghgScore', 'ghgScoreA',\n",
       "       'highway08', 'highway08U', 'highwayA08', 'highwayA08U', 'highwayCD',\n",
       "       'highwayE', 'highwayUF', 'hlv', 'hpv', 'id', 'lv2', 'lv4', 'make',\n",
       "       'model', 'mpgData', 'phevBlended', 'pv2', 'pv4', 'range', 'rangeCity',\n",
       "       'rangeCityA', 'rangeHwy', 'rangeHwyA', 'trany', 'UCity', 'UCityA',\n",
       "       'UHighway', 'UHighwayA', 'VClass', 'year', 'youSaveSpend', 'guzzler',\n",
       "       'trans_dscr', 'tCharger', 'sCharger', 'atvType', 'fuelType2', 'rangeA',\n",
       "       'evMotor', 'mfrCode', 'c240Dscr', 'charge240b', 'c240bDscr',\n",
       "       'createdOn', 'modifiedOn', 'startStop', 'phevCity', 'phevHwy',\n",
       "       'phevComb'],\n",
       "      dtype='object')"
      ]
     },
     "execution_count": 2,
     "metadata": {},
     "output_type": "execute_result"
    }
   ],
   "source": [
    "# Find out what fields are in the data\n",
    "fuel_economy.columns"
   ]
  },
  {
   "cell_type": "code",
   "execution_count": 3,
   "id": "9cd26e68",
   "metadata": {},
   "outputs": [
    {
     "name": "stdout",
     "output_type": "stream",
     "text": [
      "0        0.0\n",
      "1        0.0\n",
      "2        0.0\n",
      "3        0.0\n",
      "4        0.0\n",
      "        ... \n",
      "39544    0.0\n",
      "39545    0.0\n",
      "39546    0.0\n",
      "39547    0.0\n",
      "39548    0.0\n",
      "Name: charge120, Length: 39549, dtype: float64\n"
     ]
    },
    {
     "data": {
      "text/html": [
       "<div>\n",
       "<style scoped>\n",
       "    .dataframe tbody tr th:only-of-type {\n",
       "        vertical-align: middle;\n",
       "    }\n",
       "\n",
       "    .dataframe tbody tr th {\n",
       "        vertical-align: top;\n",
       "    }\n",
       "\n",
       "    .dataframe thead th {\n",
       "        text-align: right;\n",
       "    }\n",
       "</style>\n",
       "<table border=\"1\" class=\"dataframe\">\n",
       "  <thead>\n",
       "    <tr style=\"text-align: right;\">\n",
       "      <th></th>\n",
       "      <th>barrels08</th>\n",
       "      <th>barrelsA08</th>\n",
       "      <th>charge120</th>\n",
       "      <th>charge240</th>\n",
       "      <th>city08</th>\n",
       "      <th>city08U</th>\n",
       "      <th>cityA08</th>\n",
       "      <th>cityA08U</th>\n",
       "      <th>cityCD</th>\n",
       "      <th>cityE</th>\n",
       "      <th>...</th>\n",
       "      <th>mfrCode</th>\n",
       "      <th>c240Dscr</th>\n",
       "      <th>charge240b</th>\n",
       "      <th>c240bDscr</th>\n",
       "      <th>createdOn</th>\n",
       "      <th>modifiedOn</th>\n",
       "      <th>startStop</th>\n",
       "      <th>phevCity</th>\n",
       "      <th>phevHwy</th>\n",
       "      <th>phevComb</th>\n",
       "    </tr>\n",
       "  </thead>\n",
       "  <tbody>\n",
       "    <tr>\n",
       "      <th>0</th>\n",
       "      <td>15.695714</td>\n",
       "      <td>0.0</td>\n",
       "      <td>0.0</td>\n",
       "      <td>0.0</td>\n",
       "      <td>19</td>\n",
       "      <td>0.0</td>\n",
       "      <td>0</td>\n",
       "      <td>0.0</td>\n",
       "      <td>0.0</td>\n",
       "      <td>0.0</td>\n",
       "      <td>...</td>\n",
       "      <td>NaN</td>\n",
       "      <td>NaN</td>\n",
       "      <td>0.0</td>\n",
       "      <td>NaN</td>\n",
       "      <td>Tue Jan 01 00:00:00 EST 2013</td>\n",
       "      <td>Tue Jan 01 00:00:00 EST 2013</td>\n",
       "      <td>NaN</td>\n",
       "      <td>0</td>\n",
       "      <td>0</td>\n",
       "      <td>0</td>\n",
       "    </tr>\n",
       "    <tr>\n",
       "      <th>1</th>\n",
       "      <td>29.964545</td>\n",
       "      <td>0.0</td>\n",
       "      <td>0.0</td>\n",
       "      <td>0.0</td>\n",
       "      <td>9</td>\n",
       "      <td>0.0</td>\n",
       "      <td>0</td>\n",
       "      <td>0.0</td>\n",
       "      <td>0.0</td>\n",
       "      <td>0.0</td>\n",
       "      <td>...</td>\n",
       "      <td>NaN</td>\n",
       "      <td>NaN</td>\n",
       "      <td>0.0</td>\n",
       "      <td>NaN</td>\n",
       "      <td>Tue Jan 01 00:00:00 EST 2013</td>\n",
       "      <td>Tue Jan 01 00:00:00 EST 2013</td>\n",
       "      <td>NaN</td>\n",
       "      <td>0</td>\n",
       "      <td>0</td>\n",
       "      <td>0</td>\n",
       "    </tr>\n",
       "    <tr>\n",
       "      <th>2</th>\n",
       "      <td>12.207778</td>\n",
       "      <td>0.0</td>\n",
       "      <td>0.0</td>\n",
       "      <td>0.0</td>\n",
       "      <td>23</td>\n",
       "      <td>0.0</td>\n",
       "      <td>0</td>\n",
       "      <td>0.0</td>\n",
       "      <td>0.0</td>\n",
       "      <td>0.0</td>\n",
       "      <td>...</td>\n",
       "      <td>NaN</td>\n",
       "      <td>NaN</td>\n",
       "      <td>0.0</td>\n",
       "      <td>NaN</td>\n",
       "      <td>Tue Jan 01 00:00:00 EST 2013</td>\n",
       "      <td>Tue Jan 01 00:00:00 EST 2013</td>\n",
       "      <td>NaN</td>\n",
       "      <td>0</td>\n",
       "      <td>0</td>\n",
       "      <td>0</td>\n",
       "    </tr>\n",
       "    <tr>\n",
       "      <th>3</th>\n",
       "      <td>29.964545</td>\n",
       "      <td>0.0</td>\n",
       "      <td>0.0</td>\n",
       "      <td>0.0</td>\n",
       "      <td>10</td>\n",
       "      <td>0.0</td>\n",
       "      <td>0</td>\n",
       "      <td>0.0</td>\n",
       "      <td>0.0</td>\n",
       "      <td>0.0</td>\n",
       "      <td>...</td>\n",
       "      <td>NaN</td>\n",
       "      <td>NaN</td>\n",
       "      <td>0.0</td>\n",
       "      <td>NaN</td>\n",
       "      <td>Tue Jan 01 00:00:00 EST 2013</td>\n",
       "      <td>Tue Jan 01 00:00:00 EST 2013</td>\n",
       "      <td>NaN</td>\n",
       "      <td>0</td>\n",
       "      <td>0</td>\n",
       "      <td>0</td>\n",
       "    </tr>\n",
       "    <tr>\n",
       "      <th>4</th>\n",
       "      <td>17.347895</td>\n",
       "      <td>0.0</td>\n",
       "      <td>0.0</td>\n",
       "      <td>0.0</td>\n",
       "      <td>17</td>\n",
       "      <td>0.0</td>\n",
       "      <td>0</td>\n",
       "      <td>0.0</td>\n",
       "      <td>0.0</td>\n",
       "      <td>0.0</td>\n",
       "      <td>...</td>\n",
       "      <td>NaN</td>\n",
       "      <td>NaN</td>\n",
       "      <td>0.0</td>\n",
       "      <td>NaN</td>\n",
       "      <td>Tue Jan 01 00:00:00 EST 2013</td>\n",
       "      <td>Tue Jan 01 00:00:00 EST 2013</td>\n",
       "      <td>NaN</td>\n",
       "      <td>0</td>\n",
       "      <td>0</td>\n",
       "      <td>0</td>\n",
       "    </tr>\n",
       "  </tbody>\n",
       "</table>\n",
       "<p>5 rows × 83 columns</p>\n",
       "</div>"
      ],
      "text/plain": [
       "   barrels08  barrelsA08  charge120  charge240  city08  city08U  cityA08  \\\n",
       "0  15.695714         0.0        0.0        0.0      19      0.0        0   \n",
       "1  29.964545         0.0        0.0        0.0       9      0.0        0   \n",
       "2  12.207778         0.0        0.0        0.0      23      0.0        0   \n",
       "3  29.964545         0.0        0.0        0.0      10      0.0        0   \n",
       "4  17.347895         0.0        0.0        0.0      17      0.0        0   \n",
       "\n",
       "   cityA08U  cityCD  cityE  ...  mfrCode  c240Dscr  charge240b  c240bDscr  \\\n",
       "0       0.0     0.0    0.0  ...      NaN       NaN         0.0        NaN   \n",
       "1       0.0     0.0    0.0  ...      NaN       NaN         0.0        NaN   \n",
       "2       0.0     0.0    0.0  ...      NaN       NaN         0.0        NaN   \n",
       "3       0.0     0.0    0.0  ...      NaN       NaN         0.0        NaN   \n",
       "4       0.0     0.0    0.0  ...      NaN       NaN         0.0        NaN   \n",
       "\n",
       "                      createdOn                    modifiedOn  startStop  \\\n",
       "0  Tue Jan 01 00:00:00 EST 2013  Tue Jan 01 00:00:00 EST 2013        NaN   \n",
       "1  Tue Jan 01 00:00:00 EST 2013  Tue Jan 01 00:00:00 EST 2013        NaN   \n",
       "2  Tue Jan 01 00:00:00 EST 2013  Tue Jan 01 00:00:00 EST 2013        NaN   \n",
       "3  Tue Jan 01 00:00:00 EST 2013  Tue Jan 01 00:00:00 EST 2013        NaN   \n",
       "4  Tue Jan 01 00:00:00 EST 2013  Tue Jan 01 00:00:00 EST 2013        NaN   \n",
       "\n",
       "   phevCity  phevHwy  phevComb  \n",
       "0         0        0         0  \n",
       "1         0        0         0  \n",
       "2         0        0         0  \n",
       "3         0        0         0  \n",
       "4         0        0         0  \n",
       "\n",
       "[5 rows x 83 columns]"
      ]
     },
     "execution_count": 3,
     "metadata": {},
     "output_type": "execute_result"
    }
   ],
   "source": [
    "\n",
    "print(fuel_economy['charge120'])\n",
    "fuel_economy.head(5)"
   ]
  },
  {
   "cell_type": "code",
   "execution_count": 4,
   "id": "ea5fb287",
   "metadata": {},
   "outputs": [
    {
     "name": "stdout",
     "output_type": "stream",
     "text": [
      "<class 'pandas.core.series.Series'>\n",
      "<class 'numpy.ndarray'>\n"
     ]
    }
   ],
   "source": [
    "# what does the engine displacement data look like? Just print out the values. What type of data is it?\n",
    "feature = fuel_economy['displ']\n",
    "print(type(feature))\n",
    "feature = feature.values\n",
    "print(type(feature))"
   ]
  },
  {
   "cell_type": "code",
   "execution_count": 5,
   "id": "6f6f569c",
   "metadata": {},
   "outputs": [
    {
     "name": "stdout",
     "output_type": "stream",
     "text": [
      "<class 'numpy.ndarray'>\n",
      "(39549,)\n"
     ]
    }
   ],
   "source": [
    "target = fuel_economy['UHighway']\n",
    "target = target.values\n",
    "print(type(target))\n",
    "print(target.shape)"
   ]
  },
  {
   "cell_type": "markdown",
   "id": "f5601142",
   "metadata": {},
   "source": [
    "# Prepare data for training"
   ]
  },
  {
   "cell_type": "markdown",
   "id": "29e500de",
   "metadata": {},
   "source": [
    "## The data needs to be preprocessed: \n",
    "### First put data in the right format (e.g., in L x 1 array)"
   ]
  },
  {
   "cell_type": "code",
   "execution_count": null,
   "id": "61d364c1",
   "metadata": {},
   "outputs": [],
   "source": []
  },
  {
   "cell_type": "code",
   "execution_count": 6,
   "id": "c7ba829b",
   "metadata": {},
   "outputs": [],
   "source": [
    "# Split data into training and testing data, using 30% for testing.\n",
    "from sklearn.model_selection import train_test_split"
   ]
  },
  {
   "cell_type": "code",
   "execution_count": 72,
   "id": "c435360e",
   "metadata": {},
   "outputs": [],
   "source": [
    "xTrain, xTest, yTrain, yTest = train_test_split(feature, target, train_size=0.7)"
   ]
  },
  {
   "cell_type": "markdown",
   "id": "0eee7a0f",
   "metadata": {},
   "source": [
    "## Create the linear regression model, and try to fit the training data\n",
    "### what errors do you run into?"
   ]
  },
  {
   "cell_type": "code",
   "execution_count": 9,
   "id": "a54e29eb",
   "metadata": {},
   "outputs": [],
   "source": [
    "# import the necessary package(s)\n",
    "from sklearn.linear_model import LinearRegression\n",
    "\n"
   ]
  },
  {
   "cell_type": "code",
   "execution_count": 10,
   "id": "9c51652e",
   "metadata": {},
   "outputs": [
    {
     "name": "stdout",
     "output_type": "stream",
     "text": [
      "<class 'sklearn.linear_model._base.LinearRegression'>\n"
     ]
    }
   ],
   "source": [
    "# Then create the model and fit the model\n",
    "mileageModel = LinearRegression()\n",
    "print(type(mileageModel))"
   ]
  },
  {
   "cell_type": "markdown",
   "id": "c8cff1fc",
   "metadata": {},
   "source": [
    "## Do more pre-processing to fix the error"
   ]
  },
  {
   "cell_type": "code",
   "execution_count": 46,
   "id": "d15b8eac",
   "metadata": {},
   "outputs": [
    {
     "name": "stdout",
     "output_type": "stream",
     "text": [
      "(27684,)\n",
      "(27684,)\n",
      "(27684, 1)\n",
      "(27684, 1)\n"
     ]
    }
   ],
   "source": [
    "# remove issue\n",
    "print(xTrain.shape)\n",
    "print(yTrain.shape)\n",
    "xTrain = xTrain.reshape(-1, 1)\n",
    "yTrain = yTrain.reshape(-1, 1)\n",
    "print(xTrain.shape)\n",
    "print(yTrain.shape)"
   ]
  },
  {
   "cell_type": "code",
   "execution_count": 21,
   "id": "59be4b4a",
   "metadata": {},
   "outputs": [],
   "source": [
    "import numpy as np"
   ]
  },
  {
   "cell_type": "code",
   "execution_count": 29,
   "id": "973204bf",
   "metadata": {},
   "outputs": [
    {
     "name": "stdout",
     "output_type": "stream",
     "text": [
      "(27684, 1)\n"
     ]
    }
   ],
   "source": [
    "xTrain.shape\n",
    "print(iKeep.shape)"
   ]
  },
  {
   "cell_type": "code",
   "execution_count": 47,
   "id": "d46a2b12",
   "metadata": {},
   "outputs": [],
   "source": [
    "iKeep = ~np.isnan(xTrain)\n",
    "xTrain = xTrain[iKeep]\n",
    "xTrain = xTrain.reshape(-1, 1)"
   ]
  },
  {
   "cell_type": "code",
   "execution_count": 48,
   "id": "f3da8b19",
   "metadata": {},
   "outputs": [],
   "source": [
    "yTrain = yTrain[iKeep]\n",
    "yTrain = yTrain.reshape(-1, 1)"
   ]
  },
  {
   "cell_type": "code",
   "execution_count": 50,
   "id": "863628b4",
   "metadata": {},
   "outputs": [
    {
     "data": {
      "text/plain": [
       "array([0])"
      ]
     },
     "execution_count": 50,
     "metadata": {},
     "output_type": "execute_result"
    }
   ],
   "source": [
    "sum(np.isnan(yTrain))"
   ]
  },
  {
   "cell_type": "code",
   "execution_count": 49,
   "id": "5576b013",
   "metadata": {},
   "outputs": [
    {
     "data": {
      "text/plain": [
       "array([0])"
      ]
     },
     "execution_count": 49,
     "metadata": {},
     "output_type": "execute_result"
    }
   ],
   "source": [
    "sum(np.isnan(xTrain))"
   ]
  },
  {
   "cell_type": "markdown",
   "id": "3e796171",
   "metadata": {},
   "source": [
    "# Apply the linear regression model"
   ]
  },
  {
   "cell_type": "code",
   "execution_count": 32,
   "id": "fc71ad84",
   "metadata": {},
   "outputs": [
    {
     "name": "stdout",
     "output_type": "stream",
     "text": [
      "(27567, 1)\n",
      "(27684, 1)\n"
     ]
    }
   ],
   "source": [
    "print(xTrain.shape)\n",
    "print(yTrain.shape)"
   ]
  },
  {
   "cell_type": "code",
   "execution_count": 51,
   "id": "24dd6365",
   "metadata": {},
   "outputs": [
    {
     "data": {
      "text/html": [
       "<style>#sk-container-id-1 {color: black;background-color: white;}#sk-container-id-1 pre{padding: 0;}#sk-container-id-1 div.sk-toggleable {background-color: white;}#sk-container-id-1 label.sk-toggleable__label {cursor: pointer;display: block;width: 100%;margin-bottom: 0;padding: 0.3em;box-sizing: border-box;text-align: center;}#sk-container-id-1 label.sk-toggleable__label-arrow:before {content: \"▸\";float: left;margin-right: 0.25em;color: #696969;}#sk-container-id-1 label.sk-toggleable__label-arrow:hover:before {color: black;}#sk-container-id-1 div.sk-estimator:hover label.sk-toggleable__label-arrow:before {color: black;}#sk-container-id-1 div.sk-toggleable__content {max-height: 0;max-width: 0;overflow: hidden;text-align: left;background-color: #f0f8ff;}#sk-container-id-1 div.sk-toggleable__content pre {margin: 0.2em;color: black;border-radius: 0.25em;background-color: #f0f8ff;}#sk-container-id-1 input.sk-toggleable__control:checked~div.sk-toggleable__content {max-height: 200px;max-width: 100%;overflow: auto;}#sk-container-id-1 input.sk-toggleable__control:checked~label.sk-toggleable__label-arrow:before {content: \"▾\";}#sk-container-id-1 div.sk-estimator input.sk-toggleable__control:checked~label.sk-toggleable__label {background-color: #d4ebff;}#sk-container-id-1 div.sk-label input.sk-toggleable__control:checked~label.sk-toggleable__label {background-color: #d4ebff;}#sk-container-id-1 input.sk-hidden--visually {border: 0;clip: rect(1px 1px 1px 1px);clip: rect(1px, 1px, 1px, 1px);height: 1px;margin: -1px;overflow: hidden;padding: 0;position: absolute;width: 1px;}#sk-container-id-1 div.sk-estimator {font-family: monospace;background-color: #f0f8ff;border: 1px dotted black;border-radius: 0.25em;box-sizing: border-box;margin-bottom: 0.5em;}#sk-container-id-1 div.sk-estimator:hover {background-color: #d4ebff;}#sk-container-id-1 div.sk-parallel-item::after {content: \"\";width: 100%;border-bottom: 1px solid gray;flex-grow: 1;}#sk-container-id-1 div.sk-label:hover label.sk-toggleable__label {background-color: #d4ebff;}#sk-container-id-1 div.sk-serial::before {content: \"\";position: absolute;border-left: 1px solid gray;box-sizing: border-box;top: 0;bottom: 0;left: 50%;z-index: 0;}#sk-container-id-1 div.sk-serial {display: flex;flex-direction: column;align-items: center;background-color: white;padding-right: 0.2em;padding-left: 0.2em;position: relative;}#sk-container-id-1 div.sk-item {position: relative;z-index: 1;}#sk-container-id-1 div.sk-parallel {display: flex;align-items: stretch;justify-content: center;background-color: white;position: relative;}#sk-container-id-1 div.sk-item::before, #sk-container-id-1 div.sk-parallel-item::before {content: \"\";position: absolute;border-left: 1px solid gray;box-sizing: border-box;top: 0;bottom: 0;left: 50%;z-index: -1;}#sk-container-id-1 div.sk-parallel-item {display: flex;flex-direction: column;z-index: 1;position: relative;background-color: white;}#sk-container-id-1 div.sk-parallel-item:first-child::after {align-self: flex-end;width: 50%;}#sk-container-id-1 div.sk-parallel-item:last-child::after {align-self: flex-start;width: 50%;}#sk-container-id-1 div.sk-parallel-item:only-child::after {width: 0;}#sk-container-id-1 div.sk-dashed-wrapped {border: 1px dashed gray;margin: 0 0.4em 0.5em 0.4em;box-sizing: border-box;padding-bottom: 0.4em;background-color: white;}#sk-container-id-1 div.sk-label label {font-family: monospace;font-weight: bold;display: inline-block;line-height: 1.2em;}#sk-container-id-1 div.sk-label-container {text-align: center;}#sk-container-id-1 div.sk-container {/* jupyter's `normalize.less` sets `[hidden] { display: none; }` but bootstrap.min.css set `[hidden] { display: none !important; }` so we also need the `!important` here to be able to override the default hidden behavior on the sphinx rendered scikit-learn.org. See: https://github.com/scikit-learn/scikit-learn/issues/21755 */display: inline-block !important;position: relative;}#sk-container-id-1 div.sk-text-repr-fallback {display: none;}</style><div id=\"sk-container-id-1\" class=\"sk-top-container\"><div class=\"sk-text-repr-fallback\"><pre>LinearRegression()</pre><b>In a Jupyter environment, please rerun this cell to show the HTML representation or trust the notebook. <br />On GitHub, the HTML representation is unable to render, please try loading this page with nbviewer.org.</b></div><div class=\"sk-container\" hidden><div class=\"sk-item\"><div class=\"sk-estimator sk-toggleable\"><input class=\"sk-toggleable__control sk-hidden--visually\" id=\"sk-estimator-id-1\" type=\"checkbox\" checked><label for=\"sk-estimator-id-1\" class=\"sk-toggleable__label sk-toggleable__label-arrow\">LinearRegression</label><div class=\"sk-toggleable__content\"><pre>LinearRegression()</pre></div></div></div></div></div>"
      ],
      "text/plain": [
       "LinearRegression()"
      ]
     },
     "execution_count": 51,
     "metadata": {},
     "output_type": "execute_result"
    }
   ],
   "source": [
    "# apply the model\n",
    "mileageModel.fit(xTrain, yTrain)"
   ]
  },
  {
   "cell_type": "code",
   "execution_count": 55,
   "id": "4d8e710a",
   "metadata": {},
   "outputs": [
    {
     "name": "stdout",
     "output_type": "stream",
     "text": [
      "[[-4.57512787]] [48.74311781]\n"
     ]
    }
   ],
   "source": [
    "# look at how the model fit the data\n",
    "# y = theta1*x + theta0\n",
    "\n",
    "theta1 = mileageModel.coef_\n",
    "theta0 = mileageModel.intercept_\n",
    "\n",
    "print(theta1, theta0)"
   ]
  },
  {
   "cell_type": "code",
   "execution_count": 58,
   "id": "0dcf0d21",
   "metadata": {},
   "outputs": [
    {
     "name": "stdout",
     "output_type": "stream",
     "text": [
      "[[24.95245288]]\n"
     ]
    }
   ],
   "source": [
    "# find predicted gas mileage vale when eng displacemnt = 5.2\n",
    "yhat = theta1*5.2 + theta0\n",
    "print(yhat)"
   ]
  },
  {
   "cell_type": "markdown",
   "id": "cd16f190",
   "metadata": {},
   "source": [
    "# Evaluate performance of model\n",
    "\n",
    "First find R^2 value.  Then find the mean squared error.  Finally, plot the data and the fit line."
   ]
  },
  {
   "cell_type": "code",
   "execution_count": 73,
   "id": "31a29578",
   "metadata": {},
   "outputs": [],
   "source": [
    "iKeep = ~np.isnan(xTest)\n",
    "xTest = xTest[iKeep].reshape(-1,1)"
   ]
  },
  {
   "cell_type": "code",
   "execution_count": 74,
   "id": "6836babe",
   "metadata": {},
   "outputs": [],
   "source": [
    "yTest = yTest[iKeep]"
   ]
  },
  {
   "cell_type": "code",
   "execution_count": 76,
   "id": "69ae5161",
   "metadata": {},
   "outputs": [],
   "source": [
    "yhat = mileageModel.predict(xTest)"
   ]
  },
  {
   "cell_type": "code",
   "execution_count": 81,
   "id": "dd07f137",
   "metadata": {},
   "outputs": [
    {
     "data": {
      "text/plain": [
       "(11818, 1)"
      ]
     },
     "execution_count": 81,
     "metadata": {},
     "output_type": "execute_result"
    }
   ],
   "source": [
    "yhat.shape"
   ]
  },
  {
   "cell_type": "code",
   "execution_count": 84,
   "id": "f8ce3b21",
   "metadata": {},
   "outputs": [
    {
     "data": {
      "text/plain": [
       "False"
      ]
     },
     "execution_count": 84,
     "metadata": {},
     "output_type": "execute_result"
    }
   ],
   "source": [
    "np.isnan(yhat).any()"
   ]
  },
  {
   "cell_type": "code",
   "execution_count": 86,
   "id": "8f2614ac",
   "metadata": {},
   "outputs": [
    {
     "data": {
      "text/plain": [
       "[<matplotlib.lines.Line2D at 0x29d78ad84c0>]"
      ]
     },
     "execution_count": 86,
     "metadata": {},
     "output_type": "execute_result"
    },
    {
     "data": {
      "image/png": "[encoded data removed]",
      "text/plain": [
       "<Figure size 640x480 with 1 Axes>"
      ]
     },
     "metadata": {},
     "output_type": "display_data"
    }
   ],
   "source": [
    "import matplotlib.pyplot as plt\n",
    "plt.plot(yhat, yTest, '.')"
   ]
  },
  {
   "cell_type": "code",
   "execution_count": 87,
   "id": "6d7269c9",
   "metadata": {},
   "outputs": [
    {
     "data": {
      "text/plain": [
       "-261.1748722019088"
      ]
     },
     "execution_count": 87,
     "metadata": {},
     "output_type": "execute_result"
    }
   ],
   "source": [
    "# What was the R^2 value?\n",
    "mileageModel.score(yhat, yTest)"
   ]
  },
  {
   "cell_type": "code",
   "execution_count": 89,
   "id": "70997780",
   "metadata": {},
   "outputs": [],
   "source": [
    "# What was the mean squared error?\n",
    "from sklearn.metrics import mean_squared_error"
   ]
  },
  {
   "cell_type": "code",
   "execution_count": 90,
   "id": "1983e034",
   "metadata": {},
   "outputs": [
    {
     "data": {
      "text/plain": [
       "39.042215885644644"
      ]
     },
     "execution_count": 90,
     "metadata": {},
     "output_type": "execute_result"
    }
   ],
   "source": [
    "mean_squared_error(yhat, yTest)"
   ]
  },
  {
   "cell_type": "code",
   "execution_count": null,
   "id": "0b07e2b5",
   "metadata": {},
   "outputs": [],
   "source": [
    "# Can you write the equation of the fit line?\n",
    "# What size array do you expect the coefficients to be?\n"
   ]
  },
  {
   "cell_type": "code",
   "execution_count": null,
   "id": "672038a2",
   "metadata": {},
   "outputs": [],
   "source": [
    "# First plot the original data, and see how the fit line goes through the data.\n",
    "# Then check that the predicted values (yhat) fall along that line\n"
   ]
  },
  {
   "cell_type": "markdown",
   "id": "43d902e3",
   "metadata": {},
   "source": [
    "# Multiple Linear Regression\n",
    "Create a MMSE linear regression model for Highway mileage as a function of engine displacement and city08 mileage.  \n",
    "Pretend UHighway = Blood glucose levels, displ = daily # of calories, city08 = "
   ]
  },
  {
   "cell_type": "code",
   "execution_count": null,
   "id": "f040e6eb",
   "metadata": {},
   "outputs": [],
   "source": [
    "# create the features\n",
    "features = np.array([fuel_economy.displ, fuel_economy.city08])"
   ]
  },
  {
   "cell_type": "code",
   "execution_count": null,
   "id": "867ef229",
   "metadata": {},
   "outputs": [],
   "source": [
    "# create the target"
   ]
  },
  {
   "cell_type": "code",
   "execution_count": null,
   "id": "95cbdaba",
   "metadata": {},
   "outputs": [],
   "source": [
    "# use numpy's delete function to remove any invalid samples"
   ]
  },
  {
   "cell_type": "code",
   "execution_count": null,
   "id": "f45482d9",
   "metadata": {},
   "outputs": [],
   "source": [
    "# now split the data"
   ]
  },
  {
   "cell_type": "markdown",
   "id": "c420f1f7",
   "metadata": {},
   "source": [
    "## Create the MLR model"
   ]
  },
  {
   "cell_type": "code",
   "execution_count": null,
   "id": "79a539f9",
   "metadata": {},
   "outputs": [],
   "source": []
  },
  {
   "cell_type": "markdown",
   "id": "a344eea2",
   "metadata": {},
   "source": [
    "# Fit the data "
   ]
  },
  {
   "cell_type": "code",
   "execution_count": null,
   "id": "426ed73d",
   "metadata": {},
   "outputs": [],
   "source": []
  },
  {
   "cell_type": "markdown",
   "id": "7cde8690",
   "metadata": {},
   "source": [
    "## Test the model"
   ]
  },
  {
   "cell_type": "code",
   "execution_count": null,
   "id": "d563cbfe",
   "metadata": {},
   "outputs": [],
   "source": []
  },
  {
   "cell_type": "markdown",
   "id": "267000e1",
   "metadata": {},
   "source": [
    "## make sure you understand the model"
   ]
  },
  {
   "cell_type": "code",
   "execution_count": null,
   "id": "7bdb95c7",
   "metadata": {},
   "outputs": [],
   "source": [
    "# What shape should the coef array be? "
   ]
  },
  {
   "cell_type": "code",
   "execution_count": null,
   "id": "4b3b2026",
   "metadata": {},
   "outputs": [],
   "source": [
    "# use Axes3D from the mpl_toolkits.mplot3d package"
   ]
  },
  {
   "cell_type": "code",
   "execution_count": null,
   "id": "4a29d6ee",
   "metadata": {},
   "outputs": [],
   "source": [
    "# a plane is a*x+b*y+c*z+d=0\n",
    "# [a,b,c] is the normal. Thus, we have to calculate\n",
    "# d and we're set\n"
   ]
  },
  {
   "cell_type": "code",
   "execution_count": null,
   "id": "a45135cd",
   "metadata": {},
   "outputs": [],
   "source": [
    "# create x,y\n",
    "xx, yy = np.meshgrid(range(np.max(features[:,0])), range(np.max(features[:,1])))\n",
    "\n",
    "# calculate corresponding z\n"
   ]
  },
  {
   "cell_type": "code",
   "execution_count": null,
   "id": "bf7a0413",
   "metadata": {},
   "outputs": [],
   "source": [
    "# Create the 3d plot \n",
    "plt3d = plt.figure().gca(projection='3d')\n",
    "\n",
    "# Plot the model (the plane) using a surface plot\n",
    "plt3d.plot_surface(xx, yy, z, alpha=0.2)\n",
    "\n",
    "# Ensure that the next plot doesn't overwrite the first plot\n",
    "ax = plt.gca()\n",
    "\n",
    "# create the scatter plot\n"
   ]
  },
  {
   "cell_type": "code",
   "execution_count": null,
   "id": "ba4d46db",
   "metadata": {},
   "outputs": [],
   "source": []
  }
 ],
 "metadata": {
  "kernelspec": {
   "display_name": "Python 3 (ipykernel)",
   "language": "python",
   "name": "python3"
  },
  "language_info": {
   "codemirror_mode": {
    "name": "ipython",
    "version": 3
   },
   "file_extension": ".py",
   "mimetype": "text/x-python",
   "name": "python",
   "nbconvert_exporter": "python",
   "pygments_lexer": "ipython3",
   "version": "3.10.9"
  }
 },
 "nbformat": 4,
 "nbformat_minor": 5
}
