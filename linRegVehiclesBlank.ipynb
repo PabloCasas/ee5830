{
 "cells": [
  {
   "cell_type": "markdown",
   "id": "7d8295fd",
   "metadata": {},
   "source": [
    "# Linear Regression "
   ]
  },
  {
   "cell_type": "markdown",
   "id": "2e6f04d1",
   "metadata": {},
   "source": [
    "Written by Deborah Won for EE 5830\n",
    "California State University, Los Angeles"
   ]
  },
  {
   "cell_type": "markdown",
   "id": "dfa94e9b",
   "metadata": {},
   "source": [
    "First, we will be getting the data into a Pandas dataframe. "
   ]
  },
  {
   "cell_type": "code",
   "execution_count": null,
   "id": "9f5a68fb",
   "metadata": {
    "scrolled": true
   },
   "outputs": [],
   "source": [
    "import pandas as pd\n",
    "\n",
    "# load pre-processed data with observed values\n",
    "data_source = \"../Data/vehicles.csv\" \n",
    "\n",
    "# Format data into a Pandas dataframe\n",
    "fuel_economy = pd.read_csv(data_source, low_memory=False)\n",
    "print(type(fuel_economy))\n"
   ]
  },
  {
   "cell_type": "code",
   "execution_count": null,
   "id": "43c4ee1d",
   "metadata": {},
   "outputs": [],
   "source": [
    "# Find out what fields are in the data\n"
   ]
  },
  {
   "cell_type": "code",
   "execution_count": null,
   "id": "ea5fb287",
   "metadata": {},
   "outputs": [],
   "source": [
    "# what does the engine displacement data look like? Just print out the values. What type of data is it?\n"
   ]
  },
  {
   "cell_type": "markdown",
   "id": "f5601142",
   "metadata": {},
   "source": [
    "# Prepare data for training"
   ]
  },
  {
   "cell_type": "code",
   "execution_count": null,
   "id": "c7ba829b",
   "metadata": {},
   "outputs": [],
   "source": [
    "# Split data into training and testing data, using 30% for testing.\n"
   ]
  },
  {
   "cell_type": "markdown",
   "id": "29e500de",
   "metadata": {},
   "source": [
    "## The data needs to be preprocessed: \n",
    "### First put data in the right format (e.g., in L x 1 array)"
   ]
  },
  {
   "cell_type": "code",
   "execution_count": null,
   "id": "61d364c1",
   "metadata": {},
   "outputs": [],
   "source": []
  },
  {
   "cell_type": "markdown",
   "id": "0eee7a0f",
   "metadata": {},
   "source": [
    "## Create the linear regression model, and try to fit the training data\n",
    "### what errors do you run into?"
   ]
  },
  {
   "cell_type": "code",
   "execution_count": null,
   "id": "a54e29eb",
   "metadata": {},
   "outputs": [],
   "source": [
    "# import the necessary package(s)\n",
    "\n",
    "# Then create the model and fit the model"
   ]
  },
  {
   "cell_type": "markdown",
   "id": "c8cff1fc",
   "metadata": {},
   "source": [
    "## Do more pre-processing to fix the error"
   ]
  },
  {
   "cell_type": "code",
   "execution_count": null,
   "id": "d15b8eac",
   "metadata": {},
   "outputs": [],
   "source": [
    "# remove issue"
   ]
  },
  {
   "cell_type": "code",
   "execution_count": null,
   "id": "59be4b4a",
   "metadata": {},
   "outputs": [],
   "source": [
    "# Check issue resolved"
   ]
  },
  {
   "cell_type": "markdown",
   "id": "3e796171",
   "metadata": {},
   "source": [
    "# Apply the linear regression model"
   ]
  },
  {
   "cell_type": "code",
   "execution_count": null,
   "id": "24dd6365",
   "metadata": {},
   "outputs": [],
   "source": [
    "# apply the model"
   ]
  },
  {
   "cell_type": "code",
   "execution_count": null,
   "id": "4d8e710a",
   "metadata": {},
   "outputs": [],
   "source": [
    "# look at how the model fit the data"
   ]
  },
  {
   "cell_type": "markdown",
   "id": "cd16f190",
   "metadata": {},
   "source": [
    "# Evaluate performance of model\n",
    "\n",
    "First find R^2 value.  Then find the mean squared error.  Finally, plot the data and the fit line."
   ]
  },
  {
   "cell_type": "code",
   "execution_count": null,
   "id": "6d7269c9",
   "metadata": {},
   "outputs": [],
   "source": [
    "# What was the R^2 value?"
   ]
  },
  {
   "cell_type": "code",
   "execution_count": null,
   "id": "70997780",
   "metadata": {},
   "outputs": [],
   "source": [
    "# What was the mean squared error?"
   ]
  },
  {
   "cell_type": "code",
   "execution_count": null,
   "id": "0b07e2b5",
   "metadata": {},
   "outputs": [],
   "source": [
    "# Can you write the equation of the fit line?\n",
    "# What size array do you expect the coefficients to be?\n"
   ]
  },
  {
   "cell_type": "code",
   "execution_count": null,
   "id": "672038a2",
   "metadata": {},
   "outputs": [],
   "source": [
    "# First plot the original data, and see how the fit line goes through the data.\n",
    "# Then check that the predicted values (yhat) fall along that line\n"
   ]
  },
  {
   "cell_type": "markdown",
   "id": "43d902e3",
   "metadata": {},
   "source": [
    "# Multiple Linear Regression\n",
    "Create a MMSE linear regression model for Highway mileage as a function of engine displacement and city08 mileage.  \n",
    "Pretend UHighway = Blood glucose levels, displ = daily # of calories, city08 = "
   ]
  },
  {
   "cell_type": "code",
   "execution_count": null,
   "id": "f040e6eb",
   "metadata": {},
   "outputs": [],
   "source": [
    "# create the features"
   ]
  },
  {
   "cell_type": "code",
   "execution_count": null,
   "id": "867ef229",
   "metadata": {},
   "outputs": [],
   "source": [
    "# create the target"
   ]
  },
  {
   "cell_type": "code",
   "execution_count": null,
   "id": "95cbdaba",
   "metadata": {},
   "outputs": [],
   "source": [
    "# use numpy's delete function to remove any invalid samples"
   ]
  },
  {
   "cell_type": "code",
   "execution_count": null,
   "id": "f45482d9",
   "metadata": {},
   "outputs": [],
   "source": [
    "# now split the data"
   ]
  },
  {
   "cell_type": "markdown",
   "id": "c420f1f7",
   "metadata": {},
   "source": [
    "## Create the MLR model"
   ]
  },
  {
   "cell_type": "code",
   "execution_count": null,
   "id": "79a539f9",
   "metadata": {},
   "outputs": [],
   "source": []
  },
  {
   "cell_type": "markdown",
   "id": "a344eea2",
   "metadata": {},
   "source": [
    "# Fit the data "
   ]
  },
  {
   "cell_type": "code",
   "execution_count": null,
   "id": "426ed73d",
   "metadata": {},
   "outputs": [],
   "source": []
  },
  {
   "cell_type": "markdown",
   "id": "7cde8690",
   "metadata": {},
   "source": [
    "## Test the model"
   ]
  },
  {
   "cell_type": "code",
   "execution_count": null,
   "id": "d563cbfe",
   "metadata": {},
   "outputs": [],
   "source": []
  },
  {
   "cell_type": "markdown",
   "id": "267000e1",
   "metadata": {},
   "source": [
    "## make sure you understand the model"
   ]
  },
  {
   "cell_type": "code",
   "execution_count": null,
   "id": "7bdb95c7",
   "metadata": {},
   "outputs": [],
   "source": [
    "# What shape should the coef array be? "
   ]
  },
  {
   "cell_type": "code",
   "execution_count": null,
   "id": "4b3b2026",
   "metadata": {},
   "outputs": [],
   "source": [
    "# use Axes3D from the mpl_toolkits.mplot3d package"
   ]
  },
  {
   "cell_type": "code",
   "execution_count": null,
   "id": "4a29d6ee",
   "metadata": {},
   "outputs": [],
   "source": [
    "# a plane is a*x+b*y+c*z+d=0\n",
    "# [a,b,c] is the normal. Thus, we have to calculate\n",
    "# d and we're set\n"
   ]
  },
  {
   "cell_type": "code",
   "execution_count": null,
   "id": "a45135cd",
   "metadata": {},
   "outputs": [],
   "source": [
    "# create x,y\n",
    "xx, yy = np.meshgrid(range(np.max(features[:,0])), range(np.max(features[:,1])))\n",
    "\n",
    "# calculate corresponding z\n"
   ]
  },
  {
   "cell_type": "code",
   "execution_count": null,
   "id": "bf7a0413",
   "metadata": {},
   "outputs": [],
   "source": [
    "# Create the 3d plot \n",
    "plt3d = plt.figure().gca(projection='3d')\n",
    "\n",
    "# Plot the model (the plane) using a surface plot\n",
    "plt3d.plot_surface(xx, yy, z, alpha=0.2)\n",
    "\n",
    "# Ensure that the next plot doesn't overwrite the first plot\n",
    "ax = plt.gca()\n",
    "\n",
    "# create the scatter plot\n"
   ]
  },
  {
   "cell_type": "code",
   "execution_count": null,
   "id": "ba4d46db",
   "metadata": {},
   "outputs": [],
   "source": []
  }
 ],
 "metadata": {
  "kernelspec": {
   "display_name": "Python 3 (ipykernel)",
   "language": "python",
   "name": "python3"
  },
  "language_info": {
   "codemirror_mode": {
    "name": "ipython",
    "version": 3
   },
   "file_extension": ".py",
   "mimetype": "text/x-python",
   "name": "python",
   "nbconvert_exporter": "python",
   "pygments_lexer": "ipython3",
   "version": "3.10.9"
  }
 },
 "nbformat": 4,
 "nbformat_minor": 5
}
