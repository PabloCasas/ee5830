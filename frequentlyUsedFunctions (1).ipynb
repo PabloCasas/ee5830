{
 "cells": [
  {
   "cell_type": "code",
   "execution_count": 10,
   "id": "800d4602",
   "metadata": {},
   "outputs": [
    {
     "name": "stdout",
     "output_type": "stream",
     "text": [
      "1\n",
      "2\n",
      "3\n",
      "4\n",
      "5\n",
      "6\n",
      "7\n",
      "8\n",
      "9\n",
      "10\n"
     ]
    }
   ],
   "source": [
    "# indexing a for loop\n",
    "\n",
    "for x in range(1,11):\n",
    "    print(x)"
   ]
  },
  {
   "cell_type": "code",
   "execution_count": null,
   "id": "4bbbe665",
   "metadata": {},
   "outputs": [],
   "source": [
    "# Reading CSV file\n",
    "import pandas as pd\n",
    "#https://pandas.pydata.org/docs/reference/api/pandas.DataFrame.html\n",
    "#https://pandas.pydata.org/docs/user_guide/10min.html\n",
    "    \n",
    "db = pd.read_csv('testFile.csv')\n",
    "db.describe"
   ]
  },
  {
   "cell_type": "code",
   "execution_count": 22,
   "id": "8ac607c1",
   "metadata": {},
   "outputs": [
    {
     "name": "stdout",
     "output_type": "stream",
     "text": [
      "[[ 0  1  2  3]\n",
      " [ 7  6  5  4]\n",
      " [ 8  9 10 11]\n",
      " [12 13 14 15]]\n",
      "[0 3 6 9]\n"
     ]
    }
   ],
   "source": [
    "# Creating arrays\n",
    "\n",
    "import numpy as np\n",
    "\n",
    "X = np.array([[0, 1, 2, 3],\n",
    "              [7, 6, 5, 4],\n",
    "              [8, 9, 10, 11],\n",
    "              [12, 13, 14, 15]])\n",
    "y = np.array([0, 3, 6, 9])\n",
    "\n",
    "print(X)\n",
    "print(y)"
   ]
  },
  {
   "cell_type": "code",
   "execution_count": 28,
   "id": "d9f797f1",
   "metadata": {},
   "outputs": [
    {
     "name": "stdout",
     "output_type": "stream",
     "text": [
      "(4, 4)\n",
      "(4,)\n"
     ]
    },
    {
     "data": {
      "text/plain": [
       "array([0, 1, 2, 3])"
      ]
     },
     "execution_count": 28,
     "metadata": {},
     "output_type": "execute_result"
    }
   ],
   "source": [
    "# Size, dimensions of arrays\n",
    "print(X.shape)\n",
    "print(y.shape)\n",
    "y[2]\n",
    "X[0,:]"
   ]
  },
  {
   "cell_type": "code",
   "execution_count": 6,
   "id": "bd0ea3e7",
   "metadata": {},
   "outputs": [
    {
     "name": "stdout",
     "output_type": "stream",
     "text": [
      "[5]\n",
      "[5, [10, 15]]\n",
      "<class 'list'>\n"
     ]
    }
   ],
   "source": [
    "# Appending to lists\n",
    "A = []\n",
    "A.append(5)\n",
    "print(A)\n",
    "A.append(10)\n",
    "print(A)\n",
    "print(type(A))"
   ]
  },
  {
   "cell_type": "code",
   "execution_count": 31,
   "id": "72be882c",
   "metadata": {},
   "outputs": [
    {
     "data": {
      "text/plain": [
       "<matplotlib.legend.Legend at 0x25722803a00>"
      ]
     },
     "execution_count": 31,
     "metadata": {},
     "output_type": "execute_result"
    },
    {
     "data": {
      "image/png": "[encoded data removed]",
      "text/plain": [
       "<Figure size 432x288 with 1 Axes>"
      ]
     },
     "metadata": {
      "needs_background": "light"
     },
     "output_type": "display_data"
    }
   ],
   "source": [
    "# Plotting\n",
    "import matplotlib.pyplot as plt\n",
    "#%matplotlib inline\n",
    "#X = nparray\n",
    "plt.plot(X[0,:],X[1,:], 'o')\n",
    "plt.ylim(0, 10)\n",
    "plt.xlabel(\"Feature\")\n",
    "plt.ylabel(\"Target\")\n",
    "#plt.legend([\"Class 0\", \"Class 1\"], loc=4)"
   ]
  },
  {
   "cell_type": "code",
   "execution_count": null,
   "id": "a09d47a5",
   "metadata": {},
   "outputs": [],
   "source": [
    "# Superimposing traces, plots on a single chart/plot\n",
    "plt.plot(X_test, yTest, 'ro')\n",
    "plt.plot(X, y, 'x')\n",
    "plt.show()"
   ]
  },
  {
   "cell_type": "code",
   "execution_count": null,
   "id": "8bc66a7e",
   "metadata": {},
   "outputs": [],
   "source": [
    "# Playing with dictionaries.\n",
    "\n",
    "student = {\n",
    "    'name': 'Bob'\n",
    "    'age': 14\n",
    "    'exam1': 97\n",
    "    \n",
    "}"
   ]
  },
  {
   "cell_type": "code",
   "execution_count": null,
   "id": "ee042209",
   "metadata": {},
   "outputs": [],
   "source": [
    "# Importing estimator classes\n",
    "\n",
    "# documentation at https://scikit-learn.org/stable/modules/classes.html?highlight=linear_model#module-sklearn.linear_model\n",
    "\n",
    "from sklearn.linear_model import LinearRegression\n",
    "\n",
    "\n"
   ]
  },
  {
   "cell_type": "code",
   "execution_count": null,
   "id": "74f8e4e4",
   "metadata": {},
   "outputs": [],
   "source": [
    "# Splitting data\n",
    "from sklearn.model_selection import train_test_split\n",
    "\n",
    "X_train, X_test, y_train, y_test = train_test_split(X, y, train_size, test_size, random_state=0)"
   ]
  },
  {
   "cell_type": "code",
   "execution_count": null,
   "id": "5b4e7e51",
   "metadata": {},
   "outputs": [],
   "source": [
    "#Cross validation\n",
    "\n",
    "from sklearn.linear_model import SGDClassifier\n",
    "from sklearn.model_selection import cross_val_score\n",
    "\n",
    "estimator = SGDClassifier()\n",
    "\n",
    "scores = cross_val_score(\n",
    "    estimator,\n",
    "    X_train[FEATURES],\n",
    "    y_train,\n",
    "    cv=5\n",
    ")"
   ]
  }
 ],
 "metadata": {
  "kernelspec": {
   "display_name": "Python 3",
   "language": "python",
   "name": "python3"
  },
  "language_info": {
   "codemirror_mode": {
    "name": "ipython",
    "version": 3
   },
   "file_extension": ".py",
   "mimetype": "text/x-python",
   "name": "python",
   "nbconvert_exporter": "python",
   "pygments_lexer": "ipython3",
   "version": "3.8.8"
  }
 },
 "nbformat": 4,
 "nbformat_minor": 5
}
